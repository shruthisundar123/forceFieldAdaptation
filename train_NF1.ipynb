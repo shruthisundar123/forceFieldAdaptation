{
 "cells": [
  {
   "cell_type": "code",
   "execution_count": 1,
   "metadata": {},
   "outputs": [
    {
     "name": "stderr",
     "output_type": "stream",
     "text": [
      "2023-02-05 21:14:04.836342: I tensorflow/core/platform/cpu_feature_guard.cc:193] This TensorFlow binary is optimized with oneAPI Deep Neural Network Library (oneDNN) to use the following CPU instructions in performance-critical operations:  AVX2 FMA\n",
      "To enable them in other operations, rebuild TensorFlow with the appropriate compiler flags.\n",
      "2023-02-05 21:14:04.965015: W tensorflow/compiler/xla/stream_executor/platform/default/dso_loader.cc:64] Could not load dynamic library 'libcudart.so.11.0'; dlerror: libcudart.so.11.0: cannot open shared object file: No such file or directory\n",
      "2023-02-05 21:14:04.965034: I tensorflow/compiler/xla/stream_executor/cuda/cudart_stub.cc:29] Ignore above cudart dlerror if you do not have a GPU set up on your machine.\n",
      "2023-02-05 21:14:05.733680: W tensorflow/compiler/xla/stream_executor/platform/default/dso_loader.cc:64] Could not load dynamic library 'libnvinfer.so.7'; dlerror: libnvinfer.so.7: cannot open shared object file: No such file or directory\n",
      "2023-02-05 21:14:05.733733: W tensorflow/compiler/xla/stream_executor/platform/default/dso_loader.cc:64] Could not load dynamic library 'libnvinfer_plugin.so.7'; dlerror: libnvinfer_plugin.so.7: cannot open shared object file: No such file or directory\n",
      "2023-02-05 21:14:05.733739: W tensorflow/compiler/tf2tensorrt/utils/py_utils.cc:38] TF-TRT Warning: Cannot dlopen some TensorRT libraries. If you would like to use Nvidia GPU with TensorRT, please make sure the missing libraries mentioned above are installed properly.\n"
     ]
    }
   ],
   "source": [
    "import os\n",
    "import json\n",
    "import motornet as mn\n",
    "\n",
    "from create_network import create_network\n",
    "\n",
    "from plotting_functions import hand_to_joints \n",
    "from plotting_functions import plot_simulations\n",
    "from plotting_functions import plot1trial\n",
    "from plotting_functions import print_training_log\n",
    "\n",
    "from test_network import null_test\n",
    "from test_network import curl_test"
   ]
  },
  {
   "cell_type": "code",
   "execution_count": 2,
   "metadata": {},
   "outputs": [
    {
     "name": "stderr",
     "output_type": "stream",
     "text": [
      "2023-02-05 21:14:09.920311: W tensorflow/compiler/xla/stream_executor/platform/default/dso_loader.cc:64] Could not load dynamic library 'libcuda.so.1'; dlerror: libcuda.so.1: cannot open shared object file: No such file or directory\n",
      "2023-02-05 21:14:09.920332: W tensorflow/compiler/xla/stream_executor/cuda/cuda_driver.cc:265] failed call to cuInit: UNKNOWN ERROR (303)\n",
      "2023-02-05 21:14:09.920352: I tensorflow/compiler/xla/stream_executor/cuda/cuda_diagnostics.cc:156] kernel driver does not appear to be running on this host (akebono): /proc/driver/nvidia/version does not exist\n",
      "2023-02-05 21:14:09.920597: I tensorflow/core/platform/cpu_feature_guard.cc:193] This TensorFlow binary is optimized with oneAPI Deep Neural Network Library (oneDNN) to use the following CPU instructions in performance-critical operations:  AVX2 FMA\n",
      "To enable them in other operations, rebuild TensorFlow with the appropriate compiler flags.\n"
     ]
    }
   ],
   "source": [
    "## create the network\n",
    "nn = create_network()"
   ]
  },
  {
   "cell_type": "code",
   "execution_count": null,
   "metadata": {},
   "outputs": [],
   "source": [
    "# TRAIN NETWORK IN A NULL FIELD\n",
    "\n",
    "condition = \"train\"\n",
    "\n",
    "n_t = 100\n",
    "n_batches = 256\n",
    "batch_size = 64\n",
    "# this callback logs training information for each batch passed, rather than for each epoch.\n",
    "callbacks = [mn.nets.callbacks.BatchLogger()]\n",
    "for i in range(1):\n",
    "    print(i + 1)\n",
    "    nn.task.angular_step = 15 # reset to original amount\n",
    "    \n",
    "    # generate inputs and initial states based on the task\n",
    "    [inputs, targets, init_states] = nn.task.generate(n_timesteps=n_t, batch_size=batch_size*n_batches, condition=condition, ff_coefficient=0) #coefficient = 0 for null field   \n",
    "    # fit the model\n",
    "    # verbose = 1 will print the training losses\n",
    "    h = nn.fit(x=[inputs, init_states], y=targets, verbose=1, epochs=1, batch_size=batch_size, shuffle=False, callbacks=callbacks)\n",
    "\n"
   ]
  },
  {
   "cell_type": "code",
   "execution_count": null,
   "metadata": {},
   "outputs": [],
   "source": [
    "    #get results\n",
    "    n_mov_circle = 8 # number of movement directions around the unit circle\n",
    "    n_t = 100\n",
    "    nn.task.angular_step = 360 / n_mov_circle\n",
    "\n",
    "    [inputs, targets, init_states] = nn.task.generate(n_timesteps=n_t, batch_size=n_mov_circle, condition=condition)\n",
    "    results = nn([inputs, init_states], training=False)\n",
    "    print(results)"
   ]
  },
  {
   "cell_type": "code",
   "execution_count": null,
   "metadata": {},
   "outputs": [],
   "source": [
    "# SAVE MODEL PARAMETERS\n",
    "folderLocation = \"save_NF1\" + os.path.sep\n",
    "\n",
    "# view training log\n",
    "training_log = callbacks[0].history\n",
    "print_training_log(folderLocation, log=training_log)\n",
    "\n",
    "# save the trained model\n",
    "weight_file = folderLocation + \"weights.h5\"\n",
    "log_file = folderLocation + \"log.json\"\n",
    "# data_file = \"save_NF1\" + os.path.sep + \"data.pickle\"\n",
    "# cfg_file = \"save_NF1\" + os.path.sep + \"cfg\"\n",
    "\n",
    "# save model weights\n",
    "nn.save_weights(weight_file, save_format='h5')\n",
    "\n",
    "# save model configuration ### NOT NEEDED\n",
    "# if not os.path.isfile(cfg_file + \".json\"):\n",
    "#   nn.save_model(cfg_file)\n",
    "\n",
    "# save training history (log)\n",
    "with open(log_file, 'w') as file:\n",
    "    training_log = callbacks[0].history\n",
    "    json.dump(training_log, file)\n",
    "\n",
    "print(\"Done saving null trained model.\")"
   ]
  },
  {
   "cell_type": "code",
   "execution_count": null,
   "metadata": {},
   "outputs": [],
   "source": [
    "# TESTING THE NULL-TRAINED NETWORK\n",
    "\n",
    "null_test(folderLocation, nn) #test in a null field\n",
    "curl_test(folderLocation, nn) #test in a curl field"
   ]
  }
 ],
 "metadata": {
  "kernelspec": {
   "display_name": "env",
   "language": "python",
   "name": "python3"
  },
  "language_info": {
   "codemirror_mode": {
    "name": "ipython",
    "version": 3
   },
   "file_extension": ".py",
   "mimetype": "text/x-python",
   "name": "python",
   "nbconvert_exporter": "python",
   "pygments_lexer": "ipython3",
   "version": "3.10.6"
  },
  "orig_nbformat": 4,
  "vscode": {
   "interpreter": {
    "hash": "9a669b66bff6b80efb531f7402e0d778a6bc2e7ea0754e495db65b77d2439286"
   }
  }
 },
 "nbformat": 4,
 "nbformat_minor": 2
}
